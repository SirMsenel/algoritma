{
 "cells": [
  {
   "cell_type": "markdown",
   "metadata": {},
   "source": [
    "baseball game\n",
    "\n",
    "You are keeping score for a baseball game with strange rules. The game consists of several rounds, where the scores of past rounds may affect future rounds' scores.\n",
    "\n",
    "At the beginning of the game, you start with an empty record. You are given a list of strings ops, where ops[i] is the ith operation you must apply to the record and is one of the following:\n",
    "\n",
    "An integer x - Record a new score of x.\n",
    "\"+\" - Record a new score that is the sum of the previous two scores. It is guaranteed there will always be two previous scores.\n",
    "\"D\" - Record a new score that is double the previous score. It is guaranteed there will always be a previous score.\n",
    "\"C\" - Invalidate the previous score, removing it from the record. It is guaranteed there will always be a previous score.\n",
    "Return the sum of all the scores on the record. The test cases are generated so that the answer fits in a 32-bit integer."
   ]
  },
  {
   "cell_type": "code",
   "execution_count": 2,
   "metadata": {},
   "outputs": [],
   "source": [
    "def points():\n",
    "    myInput = [\"5\",\"2\",\"C\",\"D\",\"+\"]\n",
    "    myStack = []\n",
    "    for op in myInput :\n",
    "        if op == \"C\" :\n",
    "            myStack.pop()\n",
    "        elif op == \"+\":\n",
    "            myStack.append(myStack[-1]+myStack[-2])\n",
    "        elif op == \"D\" :\n",
    "            myStack.append(2 * myStack[-1])\n",
    "        else :\n",
    "            myStack.append(int(op)) \n",
    "    return sum(myStack)"
   ]
  },
  {
   "cell_type": "code",
   "execution_count": 3,
   "metadata": {},
   "outputs": [
    {
     "data": {
      "text/plain": [
       "30"
      ]
     },
     "execution_count": 3,
     "metadata": {},
     "output_type": "execute_result"
    }
   ],
   "source": [
    "points()"
   ]
  },
  {
   "cell_type": "markdown",
   "metadata": {},
   "source": [
    "Daily temperatures\n",
    "\n",
    "'''\n",
    "Given an array of integers temperatures represents the daily temperatures, return an array answer such that answer[i] is the number of days you have to wait after the ith day to get a warmer temperature. \n",
    "If there is no future day for which this is possible, keep answer[i] == 0 instead.\n",
    "'''\n"
   ]
  },
  {
   "cell_type": "code",
   "execution_count": 23,
   "metadata": {},
   "outputs": [],
   "source": [
    "def solution(temperatures):\n",
    "    \n",
    "    n = len(temperatures)\n",
    "    answer = [0] * n\n",
    "    stack = []\n",
    "\n",
    "    for i in range(n):\n",
    "        # Check if the current temperature is higher than the temperature at the top index of the stack\n",
    "        while stack and temperatures[i] > temperatures[stack[-1]]:\n",
    "            prev_index = stack.pop()\n",
    "            answer[prev_index] = i - prev_index\n",
    "        stack.append(i)\n",
    "\n",
    "    return answer\n"
   ]
  },
  {
   "cell_type": "code",
   "execution_count": 26,
   "metadata": {},
   "outputs": [
    {
     "name": "stdout",
     "output_type": "stream",
     "text": [
      "[1, 1, 4, 2, 1, 1, 0, 0]\n"
     ]
    }
   ],
   "source": [
    "temperatures = [73, 74, 75, 71, 69, 72, 76, 73]\n",
    "result = solution(temperatures)\n",
    "print(result)  # Output should be [1, 1, 4, 2, 1, 1, 0, 0]\n"
   ]
  },
  {
   "cell_type": "markdown",
   "metadata": {},
   "source": [
    "Remove NTth node from end of list"
   ]
  },
  {
   "cell_type": "code",
   "execution_count": 32,
   "metadata": {},
   "outputs": [],
   "source": [
    "class ListNode:\n",
    "    def __init__(self, val=0, next=None):\n",
    "        self.val = val\n",
    "        self.next = next\n",
    "\n",
    "def removeNthFromEnd(head, n):\n",
    "    dummy = ListNode(0)\n",
    "    dummy.next = head\n",
    "    first = dummy\n",
    "    second = dummy\n",
    "\n",
    "    # Move first pointer n+1 steps ahead\n",
    "    for _ in range(n + 1):\n",
    "        first = first.next\n",
    "\n",
    "    # Move both pointers until first reaches the end\n",
    "    while first:\n",
    "        first = first.next\n",
    "        second = second.next\n",
    "\n",
    "    # Skip the nth node\n",
    "    second.next = second.next.next\n",
    "\n",
    "    return dummy.next\n",
    "\n",
    "# Helper function to create a linked list from a list of values\n",
    "def create_linked_list(values):\n",
    "    head = ListNode(values[0])\n",
    "    current = head\n",
    "    for value in values[1:]:\n",
    "        current.next = ListNode(value)\n",
    "        current = current.next\n",
    "    return head\n",
    "\n",
    "# Helper function to print a linked list\n",
    "def print_linked_list(head):\n",
    "    current = head\n",
    "    while current:\n",
    "        print(current.val, end=\" -> \")\n",
    "        current = current.next\n",
    "    print(\"None\")\n",
    "\n",
    "\n"
   ]
  },
  {
   "cell_type": "code",
   "execution_count": 31,
   "metadata": {},
   "outputs": [
    {
     "name": "stdout",
     "output_type": "stream",
     "text": [
      "1 -> 2 -> 3 -> 5 -> None\n"
     ]
    }
   ],
   "source": [
    "# Example\n",
    "head = create_linked_list([1, 2, 3, 4, 5])\n",
    "n = 2\n",
    "new_head = removeNthFromEnd(head, n)\n",
    "print_linked_list(new_head)  # Expected output: 1 -> 2 -> 3 -> 5 -> None"
   ]
  },
  {
   "cell_type": "code",
   "execution_count": 38,
   "metadata": {},
   "outputs": [
    {
     "name": "stdout",
     "output_type": "stream",
     "text": [
      "1 -> 2 -> 3 -> 4 -> 5 -> 7 -> 9 -> 2 -> 4 -> None\n"
     ]
    }
   ],
   "source": [
    "a = removeNthFromEnd(create_linked_list([1, 2, 3, 4, 5,6,7,9,2,4]), 5)\n",
    "print_linked_list(a)\n"
   ]
  },
  {
   "cell_type": "markdown",
   "metadata": {},
   "source": [
    "Finde the Duplicate Number"
   ]
  },
  {
   "cell_type": "markdown",
   "metadata": {},
   "source": [
    "Given an array of integers nums containing n + 1 integers where each integer is in the range [1, n] inclusive.\n",
    "\n",
    "There is only one repeated number in nums, return this repeated number.\n",
    "\n",
    "You must solve the problem without modifying the array nums and uses only constant extra space.\n",
    "\n"
   ]
  },
  {
   "cell_type": "code",
   "execution_count": 41,
   "metadata": {},
   "outputs": [],
   "source": [
    "myList = [5,2,1,4,3,5]"
   ]
  },
  {
   "cell_type": "code",
   "execution_count": 42,
   "metadata": {},
   "outputs": [],
   "source": [
    "def floydSolution():\n",
    "    slowPointer = 0\n",
    "    fastPointer = 0\n",
    "\n",
    "    while True:\n",
    "        slowPointer = myList[slowPointer]\n",
    "        fastPointer = myList[myList[fastPointer]]\n",
    "        if slowPointer == fastPointer :\n",
    "            break\n",
    "    \n",
    "    secondSlowPointer = 0\n",
    "\n",
    "    while True:\n",
    "        slowPointer = myList[slowPointer]\n",
    "        secondSlowPointer = myList[secondSlowPointer]\n",
    "        if slowPointer == secondSlowPointer :\n",
    "            return slowPointer\n",
    "\n"
   ]
  },
  {
   "cell_type": "code",
   "execution_count": 43,
   "metadata": {},
   "outputs": [
    {
     "data": {
      "text/plain": [
       "5"
      ]
     },
     "execution_count": 43,
     "metadata": {},
     "output_type": "execute_result"
    }
   ],
   "source": [
    "floydSolution()"
   ]
  },
  {
   "cell_type": "markdown",
   "metadata": {},
   "source": [
    "reverse string"
   ]
  },
  {
   "cell_type": "code",
   "execution_count": 49,
   "metadata": {},
   "outputs": [],
   "source": [
    "myArray = [\"h\",\"e\",\"l\",\"l\",\"o\"]\n",
    "def reverseRecursive(s,start : int,end : int):\n",
    "    if start > end:\n",
    "        return\n",
    "    s[start],s[end] = s[end], s[start]\n",
    "    reverseRecursive(s,start+1,end-1)\n",
    "    \n"
   ]
  },
  {
   "cell_type": "code",
   "execution_count": 50,
   "metadata": {},
   "outputs": [],
   "source": [
    "reverseRecursive(myArray,0,len(myArray)-1)"
   ]
  },
  {
   "cell_type": "code",
   "execution_count": 51,
   "metadata": {},
   "outputs": [
    {
     "data": {
      "text/plain": [
       "['o', 'l', 'l', 'e', 'h']"
      ]
     },
     "execution_count": 51,
     "metadata": {},
     "output_type": "execute_result"
    }
   ],
   "source": [
    "myArray"
   ]
  },
  {
   "cell_type": "code",
   "execution_count": 52,
   "metadata": {},
   "outputs": [
    {
     "name": "stdout",
     "output_type": "stream",
     "text": [
      "temhem\n"
     ]
    }
   ],
   "source": [
    "a=input(\"isminizi giriniz\")\n",
    "print(a[::-1])"
   ]
  },
  {
   "cell_type": "markdown",
   "metadata": {},
   "source": [
    "invert Treee"
   ]
  },
  {
   "cell_type": "code",
   "execution_count": 57,
   "metadata": {},
   "outputs": [],
   "source": [
    "class TreeNode:\n",
    "    def __init__(self,val=0,left=None,right=None):\n",
    "        self.val = val\n",
    "        self.left = left\n",
    "        self.right = right\n",
    "    \n",
    "class Solution:\n",
    "    def invertTree(self,root):\n",
    "        if root is None:\n",
    "            return None\n",
    "        \n",
    "        root.left, root.right = root.right , root.left\n",
    "\n",
    "        self.invertTree(root.left)\n",
    "        self.invertTree(root.right)\n",
    "\n",
    "        return root"
   ]
  },
  {
   "cell_type": "markdown",
   "metadata": {},
   "source": [
    "Convert BST to greater tree"
   ]
  },
  {
   "cell_type": "code",
   "execution_count": 1,
   "metadata": {},
   "outputs": [],
   "source": [
    "class TreeNode:\n",
    "    def __init__(self, val=0, left=None, right=None):\n",
    "        self.val = val\n",
    "        self.left = left\n",
    "        self.right = right\n",
    "\n",
    "class Solution:\n",
    "    def convertBST(self, root: TreeNode) -> TreeNode:\n",
    "        # This variable keeps the cumulative sum of nodes processed so far.\n",
    "        self.cumulative_sum = 0\n",
    "        \n",
    "        # Helper function to perform reverse in-order traversal\n",
    "        def reverse_in_order(node: TreeNode):\n",
    "            if not node:\n",
    "                return\n",
    "            \n",
    "            # Traverse the right subtree\n",
    "            reverse_in_order(node.right)\n",
    "            \n",
    "            # Update the node's value with the cumulative sum\n",
    "            self.cumulative_sum += node.val\n",
    "            node.val = self.cumulative_sum\n",
    "            \n",
    "            # Traverse the left subtree\n",
    "            reverse_in_order(node.left)\n",
    "        \n",
    "        # Start the reverse in-order traversal\n",
    "        reverse_in_order(root)\n",
    "        return root\n"
   ]
  },
  {
   "cell_type": "markdown",
   "metadata": {},
   "source": [
    "A path in a binary tree is a sequence of nodes where each pair of adjacent nodes in the sequence has an edge connecting them. A node can only appear in the sequence at most once. Note that the path does not need to pass through the root.\n",
    "\n",
    "The path sum of a path is the sum of the node's values in the path.\n",
    "\n",
    "Given the root of a binary tree, return the maximum path sum of any non-empty path."
   ]
  },
  {
   "cell_type": "code",
   "execution_count": 2,
   "metadata": {},
   "outputs": [],
   "source": [
    "class TreeNode:\n",
    "    def __init__(self, val=0, left=None, right=None):\n",
    "        self.val = val\n",
    "        self.left = left\n",
    "        self.right = right\n",
    "\n",
    "class Solution:\n",
    "    def maxPathSum(self, root: TreeNode) -> int:\n",
    "        # Initialize the max sum to a very small number (negative infinity).\n",
    "        self.max_sum = float('-inf')\n",
    "        \n",
    "        def max_gain(node):\n",
    "            if not node:\n",
    "                return 0\n",
    "            \n",
    "            # Recursively calculate the max gain from the left and right subtrees.\n",
    "            # Ignore paths with negative sums by taking max with 0.\n",
    "            left_gain = max(max_gain(node.left), 0)\n",
    "            right_gain = max(max_gain(node.right), 0)\n",
    "            \n",
    "            # Calculate the path sum with the current node as the highest node in the path.\n",
    "            current_path_sum = node.val + left_gain + right_gain\n",
    "            \n",
    "            # Update the global maximum path sum if the current path sum is larger.\n",
    "            self.max_sum = max(self.max_sum, current_path_sum)\n",
    "            \n",
    "            # Return the maximum gain including the current node and one of its subtrees.\n",
    "            return node.val + max(left_gain, right_gain)\n",
    "        \n",
    "        # Start the recursion from the root node.\n",
    "        max_gain(root)\n",
    "        \n",
    "        # The global max sum now contains the maximum path sum.\n",
    "        return self.max_sum\n"
   ]
  },
  {
   "cell_type": "code",
   "execution_count": 6,
   "metadata": {},
   "outputs": [
    {
     "name": "stdout",
     "output_type": "stream",
     "text": [
      "42\n"
     ]
    }
   ],
   "source": [
    "root = TreeNode(-10)\n",
    "root.left = TreeNode(9)\n",
    "root.right = TreeNode(20)\n",
    "root.right.left = TreeNode(15)\n",
    "root.right.right = TreeNode(7)\n",
    "\n",
    "# Calculate maximum path sum\n",
    "solution = Solution()\n",
    "print(solution.maxPathSum(root))"
   ]
  },
  {
   "cell_type": "markdown",
   "metadata": {},
   "source": [
    "'''\n",
    "There are n cities numbered from 0 to n - 1 and n - 1 roads such that there is only one way to travel between two different cities (this network form a tree). Last year, The ministry of transport decided to orient the roads in one direction because they are too narrow.\n",
    "\n",
    "Roads are represented by connections where connections[i] = [ai, bi] represents a road from city ai to city bi.\n",
    "\n",
    "This year, there will be a big event in the capital (city 0), and many people want to travel to this city.\n",
    "\n",
    "Your task consists of reorienting some roads such that each city can visit the city 0. Return the minimum number of edges changed.\n",
    "\n",
    "It's guaranteed that each city can reach city 0 after reorder.\n",
    "\n",
    "'''"
   ]
  },
  {
   "cell_type": "code",
   "execution_count": 8,
   "metadata": {},
   "outputs": [],
   "source": [
    "from collections import defaultdict\n",
    "\n",
    "class Solution:\n",
    "    def minReorder(self, n: int, connections: list[list[int]]) -> int:\n",
    "        # Build the graph with both directions\n",
    "        graph = defaultdict(list)\n",
    "        for a, b in connections:\n",
    "            graph[a].append((b, 1))  # road from a to b (needs reorientation)\n",
    "            graph[b].append((a, 0))  # road from b to a (already oriented correctly)\n",
    "        \n",
    "        # Initialize variables\n",
    "        visited = set()\n",
    "        changes_needed = 0\n",
    "\n",
    "        # DFS function to count reorientations needed\n",
    "        def dfs(city):\n",
    "            nonlocal changes_needed\n",
    "            visited.add(city)\n",
    "            \n",
    "            for neighbor, needs_change in graph[city]:\n",
    "                if neighbor not in visited:\n",
    "                    # Increment changes_needed if the road needs reorientation\n",
    "                    changes_needed += needs_change\n",
    "                    dfs(neighbor)\n",
    "\n",
    "        # Start DFS from the capital city (0)\n",
    "        dfs(0)\n",
    "        \n",
    "        return changes_needed\n"
   ]
  },
  {
   "cell_type": "code",
   "execution_count": 9,
   "metadata": {},
   "outputs": [
    {
     "name": "stdout",
     "output_type": "stream",
     "text": [
      "3\n"
     ]
    }
   ],
   "source": [
    "n = 6\n",
    "connections = [[0, 1], [1, 3], [2, 3], [4, 0], [4, 5]]\n",
    "\n",
    "solution = Solution()\n",
    "print(solution.minReorder(n, connections))  # Output should be 3\n",
    "\n"
   ]
  },
  {
   "cell_type": "markdown",
   "metadata": {},
   "source": [
    "Number of ıslands"
   ]
  },
  {
   "cell_type": "markdown",
   "metadata": {},
   "source": [
    "'''\n",
    "Given an m x n 2D binary grid grid which represents a map of '1's (land) and '0's (water), return the number of islands.\n",
    "\n",
    "An island is surrounded by water and is formed by connecting adjacent lands horizontally or vertically. You may assume all four edges of the grid are all surrounded by water.\n",
    "\n",
    "'''"
   ]
  },
  {
   "cell_type": "code",
   "execution_count": 10,
   "metadata": {},
   "outputs": [],
   "source": [
    "class Solution:\n",
    "    def numIslands(self, grid: list[list[str]]) -> int:\n",
    "        # Edge case: if grid is empty\n",
    "        if not grid:\n",
    "            return 0\n",
    "\n",
    "        # Initialize grid dimensions and island count\n",
    "        rows, cols = len(grid), len(grid[0])\n",
    "        num_islands = 0\n",
    "\n",
    "        def dfs(r, c):\n",
    "            # Check if the current cell is out of bounds or already visited\n",
    "            if r < 0 or r >= rows or c < 0 or c >= cols or grid[r][c] == '0':\n",
    "                return\n",
    "\n",
    "            # Mark the cell as visited by setting it to '0'\n",
    "            grid[r][c] = '0'\n",
    "            \n",
    "            # Visit all adjacent cells (up, down, left, right)\n",
    "            dfs(r + 1, c)\n",
    "            dfs(r - 1, c)\n",
    "            dfs(r, c + 1)\n",
    "            dfs(r, c - 1)\n",
    "\n",
    "        # Traverse each cell in the grid\n",
    "        for r in range(rows):\n",
    "            for c in range(cols):\n",
    "                # If the cell is land, initiate a DFS to mark the whole island\n",
    "                if grid[r][c] == '1':\n",
    "                    num_islands += 1\n",
    "                    dfs(r, c)\n",
    "\n",
    "        return num_islands\n"
   ]
  },
  {
   "cell_type": "code",
   "execution_count": 11,
   "metadata": {},
   "outputs": [
    {
     "name": "stdout",
     "output_type": "stream",
     "text": [
      "5\n"
     ]
    }
   ],
   "source": [
    "grid = [\n",
    "    [\"1\", \"1\", \"0\", \"0\", \"0\"],\n",
    "    [\"1\", \"1\", \"0\", \"0\", \"1\"],\n",
    "    [\"0\", \"0\", \"0\", \"1\", \"1\"],\n",
    "    [\"0\", \"0\", \"0\", \"0\", \"0\"],\n",
    "    [\"1\", \"0\", \"1\", \"0\", \"1\"]\n",
    "]\n",
    "\n",
    "solution = Solution()\n",
    "print(solution.numIslands(grid))  # Output should be 5\n"
   ]
  },
  {
   "cell_type": "markdown",
   "metadata": {},
   "source": [
    "'''\n",
    "In this problem, a tree is an undirected graph that is connected and has no cycles.\n",
    "\n",
    "You are given a graph that started as a tree with n nodes labeled from 1 to n, with one additional edge added. The added edge has two different vertices chosen from 1 to n, and was not an edge that already existed. The graph is represented as an array edges of length n where edges[i] = [ai, bi] indicates that there is an edge between nodes ai and bi in the graph.\n",
    "\n",
    "Return an edge that can be removed so that the resulting graph is a tree of n nodes. If there are multiple answers, return the answer that occurs last in the input.\n",
    "\n",
    "'''"
   ]
  },
  {
   "cell_type": "markdown",
   "metadata": {},
   "source": [
    "Union find algoritması ile çözeceğiz"
   ]
  },
  {
   "cell_type": "code",
   "execution_count": 29,
   "metadata": {},
   "outputs": [],
   "source": [
    "class UnionFind:\n",
    "    def __init__(self, n):\n",
    "        # Initialize parent pointers and ranks for union-find\n",
    "        self.parent = list(range(n))\n",
    "        self.rank = [1] * n\n",
    "    \n",
    "    def find(self, x):\n",
    "        if x != self.parent[x]:\n",
    "            # Path compression optimization\n",
    "            self.parent[x] = self.find(self.parent[x])\n",
    "        return self.parent[x]\n",
    "    \n",
    "    def union(self, x, y):\n",
    "        rootX = self.find(x)\n",
    "        rootY = self.find(y)\n",
    "        \n",
    "        if rootX == rootY:\n",
    "            return False  # A cycle is detected\n",
    "        \n",
    "        # Union by rank\n",
    "        if self.rank[rootX] > self.rank[rootY]:\n",
    "            self.parent[rootY] = rootX\n",
    "        elif self.rank[rootX] < self.rank[rootY]:\n",
    "            self.parent[rootX] = rootY\n",
    "        else:\n",
    "            self.parent[rootY] = rootX\n",
    "            self.rank[rootX] += 1\n",
    "        \n",
    "        return True\n",
    "\n",
    "class Solution:\n",
    "    def findRedundantConnection(self, edges: list[list[int]]) -> list[int]:\n",
    "        # Initialize Union-Find for `n` nodes, where `n` is len(edges)\n",
    "        n = len(edges)\n",
    "        uf = UnionFind(n)\n",
    "        \n",
    "        # Traverse each edge\n",
    "        for u, v in edges:\n",
    "            # Since nodes are labeled from 1 to n, adjust for 0-indexing in union-find\n",
    "            if not uf.union(u - 1, v - 1):  # If union returns False, cycle is detected\n",
    "                return [u, v]\n",
    "        \n",
    "        return []\n",
    "\n",
    " \n"
   ]
  },
  {
   "cell_type": "code",
   "execution_count": 30,
   "metadata": {},
   "outputs": [
    {
     "name": "stdout",
     "output_type": "stream",
     "text": [
      "[2, 5]\n"
     ]
    }
   ],
   "source": [
    "edges = [[1, 2], [2, 3], [3, 4], [4, 5], [5, 6], [2, 5]]\n",
    "\n",
    "solution = Solution()\n",
    "print(solution.findRedundantConnection(edges))  # Output should be [2, 5]\n"
   ]
  },
  {
   "cell_type": "markdown",
   "metadata": {},
   "source": [
    "TWO SUM \n"
   ]
  },
  {
   "cell_type": "code",
   "execution_count": 5,
   "metadata": {},
   "outputs": [],
   "source": [
    "class Solution:\n",
    "    def twoSum(self, nums, target):\n",
    "        myHashMap = {}\n",
    "\n",
    "        for ix, num in enumerate(nums):\n",
    "            difference = target - num\n",
    "            if difference in myHashMap:\n",
    "                return [myHashMap[difference], ix]\n",
    "            myHashMap[num] = ix\n",
    "        \n",
    "        # Eğer hedefe ulaşan iki sayı bulunamazsa\n",
    "        # ve istenilen sayı tek başına listede var ise onu döndür\n",
    "        if target in myHashMap:\n",
    "            return [myHashMap[target]]\n",
    "\n",
    "        # Aksi takdirde hata döndür\n",
    "        raise ValueError(\"Hedef toplamı sağlayan iki sayı bulunamadı ve hedef sayı tek başına mevcut değil.\")\n",
    "\n",
    "\n"
   ]
  },
  {
   "cell_type": "code",
   "execution_count": 6,
   "metadata": {},
   "outputs": [],
   "source": [
    "sol = Solution()\n"
   ]
  },
  {
   "cell_type": "code",
   "execution_count": 9,
   "metadata": {},
   "outputs": [
    {
     "data": {
      "text/plain": [
       "[0, 1]"
      ]
     },
     "execution_count": 9,
     "metadata": {},
     "output_type": "execute_result"
    }
   ],
   "source": [
    "sol.twoSum([2,7,9,11,15,17],9)"
   ]
  },
  {
   "cell_type": "markdown",
   "metadata": {},
   "source": [
    "TİNY URL"
   ]
  },
  {
   "cell_type": "code",
   "execution_count": 10,
   "metadata": {},
   "outputs": [],
   "source": [
    "class Codec:\n",
    "    def __init__(self) :\n",
    "        self.encodingMap = {}\n",
    "        self.decodingMap = {}\n",
    "        self.baseUrl = \"htttps://tinyurl.com/\"\n",
    "\n",
    "    def encode(self,longUrl:str) -> str:\n",
    "        if longUrl not in self.encodingMap:\n",
    "            shortUrl = self.baseUrl + str(len(self.encodingMap) + 1)\n",
    "            self.encodingMap[longUrl] = shortUrl\n",
    "            self.decodingMap[shortUrl] = longUrl\n",
    "        return self.encodingMap[longUrl]\n",
    "\n",
    "    def decode(self,shortUrl:str) -> str:\n",
    "        return self.decodingMap[shortUrl] "
   ]
  },
  {
   "cell_type": "markdown",
   "metadata": {},
   "source": [
    "BRICK WALL"
   ]
  },
  {
   "cell_type": "code",
   "execution_count": 11,
   "metadata": {},
   "outputs": [],
   "source": [
    "class Solution:\n",
    "    def leastBricks(self, wall):\n",
    "        edge_count = {}\n",
    "        \n",
    "        # Iterate through each row in the wall\n",
    "        for row in wall:\n",
    "            edge_position = 0\n",
    "            # Calculate the edges of the bricks in the row\n",
    "            for brick in row[:-1]:  # We ignore the last brick\n",
    "                edge_position += brick\n",
    "                if edge_position in edge_count:\n",
    "                    edge_count[edge_position] += 1\n",
    "                else:\n",
    "                    edge_count[edge_position] = 1\n",
    "        \n",
    "        # If there are no edges, all bricks will be crossed\n",
    "        if not edge_count:\n",
    "            return len(wall)\n",
    "        \n",
    "        # Find the maximum number of edges\n",
    "        max_edges = max(edge_count.values())\n",
    "        \n",
    "        # The minimum number of crossed bricks is the total rows minus the max edges\n",
    "        return len(wall) - max_edges\n",
    "\n"
   ]
  },
  {
   "cell_type": "code",
   "execution_count": 12,
   "metadata": {},
   "outputs": [
    {
     "name": "stdout",
     "output_type": "stream",
     "text": [
      "2\n"
     ]
    }
   ],
   "source": [
    "# Example usage:\n",
    "solution = Solution()\n",
    "wall = [[1,2,2,1], [3,1,2], [2,4], [2,1,2], [1,3,2,1]]\n",
    "result = solution.leastBricks(wall)\n",
    "print(result)  # Output: 2\n"
   ]
  },
  {
   "cell_type": "code",
   "execution_count": null,
   "metadata": {},
   "outputs": [],
   "source": []
  }
 ],
 "metadata": {
  "kernelspec": {
   "display_name": "Python 3",
   "language": "python",
   "name": "python3"
  },
  "language_info": {
   "codemirror_mode": {
    "name": "ipython",
    "version": 3
   },
   "file_extension": ".py",
   "mimetype": "text/x-python",
   "name": "python",
   "nbconvert_exporter": "python",
   "pygments_lexer": "ipython3",
   "version": "3.11.4"
  }
 },
 "nbformat": 4,
 "nbformat_minor": 2
}
