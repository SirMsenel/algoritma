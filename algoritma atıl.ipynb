{
 "cells": [
  {
   "cell_type": "code",
   "execution_count": 1,
   "metadata": {},
   "outputs": [],
   "source": [
    "# Dizi , Liste algoritamaları\n",
    "# Array , List , Stack , Queue, Deque\n"
   ]
  },
  {
   "cell_type": "code",
   "execution_count": 2,
   "metadata": {},
   "outputs": [
    {
     "data": {
      "text/plain": [
       "[1, 2, 3, 4, 5, 6, 7, 8]"
      ]
     },
     "execution_count": 2,
     "metadata": {},
     "output_type": "execute_result"
    }
   ],
   "source": [
    "#Array : belirli sabit bir listedir. genel olarak ekleme, azaltma gibi değişiklikler zordur listeden en büyük farkı budur.\n",
    "#array numpy içersisinden ya da pyhton kendi kütüphanesinden import edilir.\n",
    "\n",
    "myList = [1,2,3,4,5]\n",
    "otherList = [6,7,8]\n",
    "myList.extend(otherList)\n",
    "myList"
   ]
  },
  {
   "cell_type": "code",
   "execution_count": 3,
   "metadata": {},
   "outputs": [
    {
     "name": "stdout",
     "output_type": "stream",
     "text": [
      "Length : 0 Byte : 56\n",
      "Length : 1 Byte : 88\n",
      "Length : 2 Byte : 88\n",
      "Length : 3 Byte : 88\n",
      "Length : 4 Byte : 88\n",
      "Length : 5 Byte : 120\n",
      "Length : 6 Byte : 120\n",
      "Length : 7 Byte : 120\n",
      "Length : 8 Byte : 120\n",
      "Length : 9 Byte : 184\n",
      "Length : 10 Byte : 184\n",
      "Length : 11 Byte : 184\n",
      "Length : 12 Byte : 184\n",
      "Length : 13 Byte : 184\n",
      "Length : 14 Byte : 184\n"
     ]
    }
   ],
   "source": [
    "#sys kütüphanesş bellekteki kaplanan alanı ölçer\n",
    "\n",
    "import sys\n",
    "n = 15 \n",
    "myDynamicArray =[]\n",
    "for i in range(n):\n",
    "    myLength = len(myDynamicArray)\n",
    "    myByte = sys.getsizeof(myDynamicArray)\n",
    "    print(f\"Length : {myLength} Byte : {myByte}\")\n",
    "    myDynamicArray.append(n)\n"
   ]
  },
  {
   "cell_type": "code",
   "execution_count": 4,
   "metadata": {},
   "outputs": [
    {
     "data": {
      "text/plain": [
       "4"
      ]
     },
     "execution_count": 4,
     "metadata": {},
     "output_type": "execute_result"
    }
   ],
   "source": [
    "def singleNumber() :\n",
    "    myList = [3,5,7,4,3,7,5]\n",
    "    result = 0\n",
    "    for num in myList:\n",
    "        result = num ^ result\n",
    "    return result\n",
    "singleNumber()"
   ]
  },
  {
   "cell_type": "code",
   "execution_count": 5,
   "metadata": {},
   "outputs": [
    {
     "data": {
      "text/plain": [
       "1"
      ]
     },
     "execution_count": 5,
     "metadata": {},
     "output_type": "execute_result"
    }
   ],
   "source": [
    "#major number\n",
    "myList1 = [2,3,4,1,1,1,1,1,1,5]\n",
    "\n",
    "def findMajority():\n",
    "    numbers = {}\n",
    "    result = 0 \n",
    "    maxNumber = 0 \n",
    "\n",
    "    for num in myList1:\n",
    "        numbers[num] = 1 + numbers.get(num,0)\n",
    "        if numbers[num] > maxNumber :\n",
    "            result = num\n",
    "        maxNumber = max(maxNumber,numbers[num])\n",
    "    return result\n",
    "\n",
    "findMajority()"
   ]
  },
  {
   "cell_type": "markdown",
   "metadata": {},
   "source": [
    "Stack,Ordered,LIFO,Top & Base"
   ]
  },
  {
   "cell_type": "code",
   "execution_count": 6,
   "metadata": {},
   "outputs": [],
   "source": [
    "##koyma-ekleme işlemine \"push\"\n",
    "##çıkarma-silme işlemine \"pop\" denir.\n",
    "## en son eklenen eleman ilk çıkarılına elemandır ve bunun adına LIFO'dur.\n",
    "##Qeue 'de ilk girene \"dequeue\" denir. son girene ise \"enqueue\" denir. stackin tam tersi şekilde çalışır. son giren en son çıkar.\n",
    "##Deque ise hem stcaği hemde queue yi içinde bulunduur.prensibi yoktur. ister sondan ekle önden çıkar , ister sondan ekle sondan çıkar.\n"
   ]
  },
  {
   "cell_type": "code",
   "execution_count": 7,
   "metadata": {},
   "outputs": [],
   "source": [
    "myList = []"
   ]
  },
  {
   "cell_type": "code",
   "execution_count": 8,
   "metadata": {},
   "outputs": [
    {
     "data": {
      "text/plain": [
       "[1, 2]"
      ]
     },
     "execution_count": 8,
     "metadata": {},
     "output_type": "execute_result"
    }
   ],
   "source": [
    "myList.append(1)\n",
    "myList.append(2)\n",
    "myList"
   ]
  },
  {
   "cell_type": "code",
   "execution_count": 10,
   "metadata": {},
   "outputs": [
    {
     "data": {
      "text/plain": [
       "[1, 2, 3, 3]"
      ]
     },
     "execution_count": 10,
     "metadata": {},
     "output_type": "execute_result"
    }
   ],
   "source": [
    "myList.append(3)\n",
    "myList"
   ]
  },
  {
   "cell_type": "code",
   "execution_count": 14,
   "metadata": {},
   "outputs": [
    {
     "data": {
      "text/plain": [
       "3"
      ]
     },
     "execution_count": 14,
     "metadata": {},
     "output_type": "execute_result"
    }
   ],
   "source": [
    "myList.pop()"
   ]
  },
  {
   "cell_type": "code",
   "execution_count": 15,
   "metadata": {},
   "outputs": [
    {
     "data": {
      "text/plain": [
       "[1, 2]"
      ]
     },
     "execution_count": 15,
     "metadata": {},
     "output_type": "execute_result"
    }
   ],
   "source": [
    "myList"
   ]
  },
  {
   "cell_type": "code",
   "execution_count": 16,
   "metadata": {},
   "outputs": [],
   "source": [
    "from queue import LifoQueue"
   ]
  },
  {
   "cell_type": "code",
   "execution_count": 18,
   "metadata": {},
   "outputs": [],
   "source": [
    "lifoQueue = LifoQueue()\n",
    "lifoQueue.put(1)"
   ]
  },
  {
   "cell_type": "code",
   "execution_count": 19,
   "metadata": {},
   "outputs": [],
   "source": [
    "lifoQueue.put(10)\n",
    "lifoQueue.put(20)"
   ]
  },
  {
   "cell_type": "code",
   "execution_count": 21,
   "metadata": {},
   "outputs": [
    {
     "data": {
      "text/plain": [
       "10"
      ]
     },
     "execution_count": 21,
     "metadata": {},
     "output_type": "execute_result"
    }
   ],
   "source": [
    "lifoQueue.get()\n",
    "## en son ekleneni gösterir ve onu çıkartır\n"
   ]
  },
  {
   "cell_type": "code",
   "execution_count": 22,
   "metadata": {},
   "outputs": [],
   "source": [
    "from queue import Queue"
   ]
  },
  {
   "cell_type": "code",
   "execution_count": 23,
   "metadata": {},
   "outputs": [],
   "source": [
    "myQueue = Queue()"
   ]
  },
  {
   "cell_type": "code",
   "execution_count": 24,
   "metadata": {},
   "outputs": [],
   "source": [
    "myQueue.put(1)\n",
    "myQueue.put(10)\n",
    "myQueue.put(20)"
   ]
  },
  {
   "cell_type": "code",
   "execution_count": 25,
   "metadata": {},
   "outputs": [
    {
     "data": {
      "text/plain": [
       "1"
      ]
     },
     "execution_count": 25,
     "metadata": {},
     "output_type": "execute_result"
    }
   ],
   "source": [
    "myQueue.get()\n",
    "##tersten vermeye başlar , ilk eklenen ilk gider."
   ]
  },
  {
   "cell_type": "code",
   "execution_count": 26,
   "metadata": {},
   "outputs": [],
   "source": [
    "from collections import deque"
   ]
  },
  {
   "cell_type": "code",
   "execution_count": 29,
   "metadata": {},
   "outputs": [
    {
     "data": {
      "text/plain": [
       "deque([10, 20, 30])"
      ]
     },
     "execution_count": 29,
     "metadata": {},
     "output_type": "execute_result"
    }
   ],
   "source": [
    "myDeque = deque()\n",
    "myDeque.append(10)\n",
    "myDeque.append(20)\n",
    "myDeque.append(30)\n",
    "myDeque"
   ]
  },
  {
   "cell_type": "code",
   "execution_count": 31,
   "metadata": {},
   "outputs": [
    {
     "data": {
      "text/plain": [
       "deque([40, 40, 10, 20, 30])"
      ]
     },
     "execution_count": 31,
     "metadata": {},
     "output_type": "execute_result"
    }
   ],
   "source": [
    "myDeque.appendleft(40)\n",
    "myDeque\n",
    "##çift taraflı ekleme veya silme imkanı sunar"
   ]
  },
  {
   "cell_type": "code",
   "execution_count": 34,
   "metadata": {},
   "outputs": [
    {
     "data": {
      "text/plain": [
       "deque([10, 20, 30])"
      ]
     },
     "execution_count": 34,
     "metadata": {},
     "output_type": "execute_result"
    }
   ],
   "source": [
    "myDeque.popleft()\n",
    "myDeque"
   ]
  },
  {
   "cell_type": "markdown",
   "metadata": {},
   "source": [
    "Stacklmplementation"
   ]
  },
  {
   "cell_type": "code",
   "execution_count": 35,
   "metadata": {},
   "outputs": [
    {
     "data": {
      "text/plain": [
       "'\\nstack()\\npush(item)\\npop()\\nshowLast()\\nsize()\\nisEmpty()\\n\\ngibi metodlardan faydalanacağız.\\n'"
      ]
     },
     "execution_count": 35,
     "metadata": {},
     "output_type": "execute_result"
    }
   ],
   "source": [
    "'''\n",
    "stack()\n",
    "push(item)\n",
    "pop()\n",
    "showLast()\n",
    "size()\n",
    "isEmpty()\n",
    "\n",
    "gibi metodlardan faydalanacağız.\n",
    "'''"
   ]
  },
  {
   "cell_type": "code",
   "execution_count": 39,
   "metadata": {},
   "outputs": [],
   "source": [
    "class Stack():\n",
    "    def __init__(self) :\n",
    "        self.elements = []\n",
    "\n",
    "    def isEmpty(self):\n",
    "        return self.elements == []\n",
    "    \n",
    "    def push(self,elements):\n",
    "        self.elements.append(elements)\n",
    "\n",
    "    def pop(self):\n",
    "        return self.elements.pop()\n",
    "\n",
    "    def showLast(self):\n",
    "        return self.elements[len(self.elements) - 1]\n",
    "    \n",
    "    def size(self):\n",
    "        return len(self.elements)"
   ]
  },
  {
   "cell_type": "code",
   "execution_count": 40,
   "metadata": {},
   "outputs": [],
   "source": [
    "myStack = Stack()"
   ]
  },
  {
   "cell_type": "code",
   "execution_count": 41,
   "metadata": {},
   "outputs": [
    {
     "data": {
      "text/plain": [
       "True"
      ]
     },
     "execution_count": 41,
     "metadata": {},
     "output_type": "execute_result"
    }
   ],
   "source": [
    "myStack.isEmpty()"
   ]
  },
  {
   "cell_type": "code",
   "execution_count": 46,
   "metadata": {},
   "outputs": [
    {
     "data": {
      "text/plain": [
       "False"
      ]
     },
     "execution_count": 46,
     "metadata": {},
     "output_type": "execute_result"
    }
   ],
   "source": [
    "myStack.push(\"a\")\n",
    "myStack.push(40)\n",
    "myStack.isEmpty()"
   ]
  },
  {
   "cell_type": "code",
   "execution_count": 48,
   "metadata": {},
   "outputs": [
    {
     "data": {
      "text/plain": [
       "True"
      ]
     },
     "execution_count": 48,
     "metadata": {},
     "output_type": "execute_result"
    }
   ],
   "source": [
    "myStack.pop()\n",
    "myStack.isEmpty()"
   ]
  },
  {
   "cell_type": "markdown",
   "metadata": {},
   "source": [
    "Queuelemplementation"
   ]
  },
  {
   "cell_type": "code",
   "execution_count": 49,
   "metadata": {},
   "outputs": [
    {
     "data": {
      "text/plain": [
       "'\\nQueue()\\nenqueue(element)\\ndequeue()\\nsize()\\nisEmpty()\\n'"
      ]
     },
     "execution_count": 49,
     "metadata": {},
     "output_type": "execute_result"
    }
   ],
   "source": [
    "'''\n",
    "Queue()\n",
    "enqueue(element)\n",
    "dequeue()\n",
    "size()\n",
    "isEmpty()\n",
    "'''"
   ]
  },
  {
   "cell_type": "code",
   "execution_count": 50,
   "metadata": {},
   "outputs": [],
   "source": [
    "class Queue():\n",
    "\n",
    "    def __init__(self) :\n",
    "        self.elements = []\n",
    "    def isEmpty(self):\n",
    "        return self.elements == []\n",
    "    \n",
    "    def enqueue(self,element):\n",
    "        self.elements.insert(0,element)\n",
    "\n",
    "    def dequeue(self):\n",
    "        return self.elements.pop()\n",
    "    \n",
    "    def size(self):\n",
    "        return len(self.elements)"
   ]
  },
  {
   "cell_type": "code",
   "execution_count": 51,
   "metadata": {},
   "outputs": [
    {
     "data": {
      "text/plain": [
       "True"
      ]
     },
     "execution_count": 51,
     "metadata": {},
     "output_type": "execute_result"
    }
   ],
   "source": [
    "myQueue = Queue()\n",
    "myQueue.isEmpty()"
   ]
  },
  {
   "cell_type": "code",
   "execution_count": 52,
   "metadata": {},
   "outputs": [],
   "source": [
    "myQueue.enqueue(10)\n",
    "myQueue.enqueue(20)\n",
    "myQueue.enqueue(30)"
   ]
  },
  {
   "cell_type": "code",
   "execution_count": 53,
   "metadata": {},
   "outputs": [
    {
     "data": {
      "text/plain": [
       "10"
      ]
     },
     "execution_count": 53,
     "metadata": {},
     "output_type": "execute_result"
    }
   ],
   "source": [
    "myQueue.dequeue()"
   ]
  },
  {
   "cell_type": "code",
   "execution_count": 54,
   "metadata": {},
   "outputs": [
    {
     "data": {
      "text/plain": [
       "2"
      ]
     },
     "execution_count": 54,
     "metadata": {},
     "output_type": "execute_result"
    }
   ],
   "source": [
    "myQueue.size()"
   ]
  },
  {
   "cell_type": "markdown",
   "metadata": {},
   "source": [
    "Dequelmplementation"
   ]
  },
  {
   "cell_type": "code",
   "execution_count": 55,
   "metadata": {},
   "outputs": [
    {
     "data": {
      "text/plain": [
       "'\\nDeque()\\n\\naddLeft()\\naddRight()\\nremoveRight()\\nremoveLeft()\\nisEmpty()\\nsize()\\n'"
      ]
     },
     "execution_count": 55,
     "metadata": {},
     "output_type": "execute_result"
    }
   ],
   "source": [
    "'''\n",
    "Deque()\n",
    "\n",
    "addLeft()\n",
    "addRight()\n",
    "removeRight()\n",
    "removeLeft()\n",
    "isEmpty()\n",
    "size()\n",
    "'''"
   ]
  },
  {
   "cell_type": "code",
   "execution_count": 57,
   "metadata": {},
   "outputs": [],
   "source": [
    "class Deque():\n",
    "    def __init__(self):\n",
    "        self.elements = []\n",
    "    \n",
    "    def isEmpty(self):\n",
    "        return self.elements == []\n",
    "    \n",
    "    def addLeft(self,element):\n",
    "        self.elements.insert(0,element)\n",
    "\n",
    "    def addRight(self,element):\n",
    "        self.elements.append(element)\n",
    "\n",
    "    def removeLeft(self):\n",
    "        return self.elements.pop(0)\n",
    "    \n",
    "    def removeRight(self):\n",
    "        return self.elements.pop()\n",
    "    \n",
    "    def size(self):\n",
    "        return len(self.elements)\n",
    "\n",
    "     "
   ]
  },
  {
   "cell_type": "code",
   "execution_count": 61,
   "metadata": {},
   "outputs": [],
   "source": [
    "myDeque = Deque()\n",
    "myDeque.addRight(10)\n",
    "myDeque.addRight(20)\n",
    "myDeque.addLeft(30)\n",
    "myDeque.addLeft(40)\n",
    "myDeque.addRight(50)\n",
    "##[40,30,10,20,50]"
   ]
  },
  {
   "cell_type": "code",
   "execution_count": 60,
   "metadata": {},
   "outputs": [
    {
     "data": {
      "text/plain": [
       "5"
      ]
     },
     "execution_count": 60,
     "metadata": {},
     "output_type": "execute_result"
    }
   ],
   "source": [
    "myDeque.size()"
   ]
  },
  {
   "cell_type": "code",
   "execution_count": 62,
   "metadata": {},
   "outputs": [
    {
     "data": {
      "text/plain": [
       "40"
      ]
     },
     "execution_count": 62,
     "metadata": {},
     "output_type": "execute_result"
    }
   ],
   "source": [
    "myDeque.removeLeft()"
   ]
  },
  {
   "cell_type": "code",
   "execution_count": 63,
   "metadata": {},
   "outputs": [
    {
     "data": {
      "text/plain": [
       "30"
      ]
     },
     "execution_count": 63,
     "metadata": {},
     "output_type": "execute_result"
    }
   ],
   "source": [
    "myDeque.removeLeft()\n"
   ]
  },
  {
   "cell_type": "code",
   "execution_count": 64,
   "metadata": {},
   "outputs": [
    {
     "data": {
      "text/plain": [
       "50"
      ]
     },
     "execution_count": 64,
     "metadata": {},
     "output_type": "execute_result"
    }
   ],
   "source": [
    "myDeque.removeRight()"
   ]
  },
  {
   "cell_type": "code",
   "execution_count": 65,
   "metadata": {},
   "outputs": [
    {
     "data": {
      "text/plain": [
       "2"
      ]
     },
     "execution_count": 65,
     "metadata": {},
     "output_type": "execute_result"
    }
   ],
   "source": [
    "myDeque.size()"
   ]
  },
  {
   "cell_type": "code",
   "execution_count": 2,
   "metadata": {},
   "outputs": [],
   "source": [
    "##Örnek soru (stack like a queue)\n",
    "\n",
    "class MyStack :\n",
    "    def __init__(self) :\n",
    "        self.myQueue = deque()\n",
    "    \n",
    "    def push(self, x : int ) -> None:\n",
    "        self.myQueue.append(x)\n",
    "    \n",
    "    def pop(self) -> int:\n",
    "        for i in range(len(self.myQueue)-1):\n",
    "            self.myQueue.append(self.myQueue.popleft())\n",
    "        return self.myQueue.popleft()\n",
    "    \n",
    "    def top(self) -> int:\n",
    "        return self.myQueue[-1]\n",
    "\n",
    "    def empty(self) -> bool:\n",
    "        return len(self.myQueue) == 0\n"
   ]
  },
  {
   "cell_type": "markdown",
   "metadata": {},
   "source": [
    "#Linked List(Birbirine bağlı liste)"
   ]
  },
  {
   "cell_type": "markdown",
   "metadata": {},
   "source": [
    "node -> linked list içinde tutulan şeyler ,\n",
    "\n",
    "Singly ve Doubly olmak üzere ikiye ayrılır\n",
    "\n",
    "\n",
    "head ve tail kavramları yer alır(singly de ),\n",
    "header ve trailer yer alır (doubly de)\n",
    "\n"
   ]
  },
  {
   "cell_type": "markdown",
   "metadata": {},
   "source": []
  },
  {
   "cell_type": "code",
   "execution_count": 1,
   "metadata": {},
   "outputs": [],
   "source": [
    "#Singly linked list\n",
    "class Node():\n",
    "    def __init__(self,value):\n",
    "        self.value = value\n",
    "        self.nextNode = None"
   ]
  },
  {
   "cell_type": "code",
   "execution_count": 2,
   "metadata": {},
   "outputs": [],
   "source": [
    "firstNode = Node(10)\n",
    "secondNode = Node(20)\n",
    "thirdNode = Node(30)\n",
    "\n"
   ]
  },
  {
   "cell_type": "code",
   "execution_count": 3,
   "metadata": {},
   "outputs": [],
   "source": [
    "firstNode.nextNode = secondNode"
   ]
  },
  {
   "cell_type": "code",
   "execution_count": 4,
   "metadata": {},
   "outputs": [],
   "source": [
    "secondNode.nextNode = thirdNode"
   ]
  },
  {
   "cell_type": "code",
   "execution_count": 5,
   "metadata": {},
   "outputs": [
    {
     "data": {
      "text/plain": [
       "30"
      ]
     },
     "execution_count": 5,
     "metadata": {},
     "output_type": "execute_result"
    }
   ],
   "source": [
    "firstNode.nextNode.nextNode.value"
   ]
  },
  {
   "cell_type": "code",
   "execution_count": 7,
   "metadata": {},
   "outputs": [],
   "source": [
    "class DoublyNode():\n",
    "    def __init__(self,value):\n",
    "        self.value = value\n",
    "        self.nextNode = None\n",
    "        self.prevNode = None"
   ]
  },
  {
   "cell_type": "code",
   "execution_count": 8,
   "metadata": {},
   "outputs": [],
   "source": [
    "x = DoublyNode(5)\n",
    "y = DoublyNode(10)\n",
    "z = DoublyNode(15)"
   ]
  },
  {
   "cell_type": "code",
   "execution_count": 10,
   "metadata": {},
   "outputs": [],
   "source": [
    "x.nextNode = y\n",
    "y.nextNode = x"
   ]
  },
  {
   "cell_type": "markdown",
   "metadata": {},
   "source": [
    "TREE Yapısı\n"
   ]
  },
  {
   "cell_type": "markdown",
   "metadata": {},
   "source": [
    "yapı içerisinde bir kök yer almakta olup , dallanacak şekilde devam eder.Linked listin daha da gelişmiş halide denilebilir.\n",
    "\n",
    "\n",
    "kök -> root şeklinde isimlendirilir.\n",
    "\n",
    "Bınary Tree ve Bınary search tree üzerinde duracağız. = bınary search tree de sol tarafta küçük , sağ tarafta büyük sayı yer alır ve bu dallanma bu yapıda aşağı doğru devam eder."
   ]
  },
  {
   "cell_type": "code",
   "execution_count": 11,
   "metadata": {},
   "outputs": [],
   "source": [
    "class Node :\n",
    "    def __init__(self,value):\n",
    "        self.value = value\n",
    "        self.left = None\n",
    "        self.right = None"
   ]
  },
  {
   "cell_type": "code",
   "execution_count": 37,
   "metadata": {},
   "outputs": [],
   "source": [
    "class BinarySearchTree:\n",
    "\n",
    "    def __init__(self):\n",
    "        self.root = None\n",
    "\n",
    "    def insert(self, value):\n",
    "        newNode = Node(value)\n",
    "\n",
    "        if self.root is None:\n",
    "            self.root = newNode\n",
    "            return True\n",
    "\n",
    "        tempNode = self.root\n",
    "\n",
    "        while True:\n",
    "            if newNode.value == tempNode.value:\n",
    "                return False\n",
    "            if newNode.value < tempNode.value:\n",
    "                if tempNode.left is None:\n",
    "                    tempNode.left = newNode\n",
    "                    return True\n",
    "                tempNode = tempNode.left\n",
    "            else:\n",
    "                if tempNode.right is None:\n",
    "                    tempNode.right = newNode\n",
    "                    return True\n",
    "                tempNode = tempNode.right\n",
    "\n",
    "\n",
    "    def contains(self,value):\n",
    "\n",
    "        tempNode = self.root\n",
    "\n",
    "        while tempNode:\n",
    "            if value < tempNode.value:\n",
    "                tempNode = tempNode.left\n",
    "            elif value > tempNode.value:\n",
    "                tempNode = tempNode.right\n",
    "            else:\n",
    "                return True\n",
    "        return False\n",
    "        \n",
    "\n",
    "    def minOfNode(self,currentNode):\n",
    "        while currentNode.left:\n",
    "            currentNode = currentNode.left\n",
    "        return currentNode\n",
    "    \n",
    "    def maxOfNode(self,currentNode):\n",
    "        while currentNode.right:\n",
    "            currentNode = currentNode.right\n",
    "        return currentNode"
   ]
  },
  {
   "cell_type": "code",
   "execution_count": 38,
   "metadata": {},
   "outputs": [],
   "source": [
    "myTree = BinarySearchTree()"
   ]
  },
  {
   "cell_type": "code",
   "execution_count": 44,
   "metadata": {},
   "outputs": [
    {
     "data": {
      "text/plain": [
       "False"
      ]
     },
     "execution_count": 44,
     "metadata": {},
     "output_type": "execute_result"
    }
   ],
   "source": [
    "myTree.insert(10)"
   ]
  },
  {
   "cell_type": "code",
   "execution_count": 45,
   "metadata": {},
   "outputs": [
    {
     "data": {
      "text/plain": [
       "False"
      ]
     },
     "execution_count": 45,
     "metadata": {},
     "output_type": "execute_result"
    }
   ],
   "source": [
    "myTree.insert(20)"
   ]
  },
  {
   "cell_type": "code",
   "execution_count": 46,
   "metadata": {},
   "outputs": [
    {
     "data": {
      "text/plain": [
       "True"
      ]
     },
     "execution_count": 46,
     "metadata": {},
     "output_type": "execute_result"
    }
   ],
   "source": [
    "myTree.insert(25)"
   ]
  },
  {
   "cell_type": "code",
   "execution_count": 47,
   "metadata": {},
   "outputs": [
    {
     "data": {
      "text/plain": [
       "True"
      ]
     },
     "execution_count": 47,
     "metadata": {},
     "output_type": "execute_result"
    }
   ],
   "source": [
    "myTree.insert(16)"
   ]
  },
  {
   "cell_type": "code",
   "execution_count": 48,
   "metadata": {},
   "outputs": [
    {
     "data": {
      "text/plain": [
       "10"
      ]
     },
     "execution_count": 48,
     "metadata": {},
     "output_type": "execute_result"
    }
   ],
   "source": [
    "myTree.root.value"
   ]
  },
  {
   "cell_type": "markdown",
   "metadata": {},
   "source": [
    "Recursion\n",
    "\n"
   ]
  },
  {
   "cell_type": "code",
   "execution_count": 49,
   "metadata": {},
   "outputs": [],
   "source": [
    "def calculateFactorial(num):\n",
    "    if num == 0 :\n",
    "        return 1\n",
    "    else:\n",
    "        return num * calculateFactorial(num-1)"
   ]
  },
  {
   "cell_type": "code",
   "execution_count": 50,
   "metadata": {},
   "outputs": [
    {
     "data": {
      "text/plain": [
       "362880"
      ]
     },
     "execution_count": 50,
     "metadata": {},
     "output_type": "execute_result"
    }
   ],
   "source": [
    "calculateFactorial(9)"
   ]
  },
  {
   "cell_type": "code",
   "execution_count": 53,
   "metadata": {},
   "outputs": [],
   "source": [
    "def totalnumber(num):\n",
    "    if num == 0 :\n",
    "        return 0\n",
    "    else:\n",
    "        return num + totalnumber(num-1)"
   ]
  },
  {
   "cell_type": "code",
   "execution_count": 54,
   "metadata": {},
   "outputs": [
    {
     "data": {
      "text/plain": [
       "55"
      ]
     },
     "execution_count": 54,
     "metadata": {},
     "output_type": "execute_result"
    }
   ],
   "source": [
    "totalnumber(10)"
   ]
  },
  {
   "cell_type": "markdown",
   "metadata": {},
   "source": [
    "Memoization"
   ]
  },
  {
   "cell_type": "code",
   "execution_count": 55,
   "metadata": {},
   "outputs": [],
   "source": [
    "def iterativeFibonacci(n:int) -> int:\n",
    "    x,y = 0,1\n",
    "\n",
    "    for i in range(n):\n",
    "        x,y = y, x+y\n",
    "    return x"
   ]
  },
  {
   "cell_type": "code",
   "execution_count": 56,
   "metadata": {},
   "outputs": [],
   "source": [
    "myList = [5,10,15,5,20,15,5,10,5,100,10,20,15,100,5,10]\n",
    "for num in myList:\n",
    "    iterativeFibonacci(num)"
   ]
  },
  {
   "cell_type": "code",
   "execution_count": null,
   "metadata": {},
   "outputs": [],
   "source": []
  },
  {
   "cell_type": "markdown",
   "metadata": {},
   "source": [
    "Breadth First Search (BFS)\n",
    "\n",
    "baştan bakma anlamı da taşır yukarıdan aşağı doğru sırasıyla gezer\n"
   ]
  },
  {
   "cell_type": "markdown",
   "metadata": {},
   "source": [
    "Depth Fırst Search(DFS)"
   ]
  },
  {
   "cell_type": "code",
   "execution_count": 2,
   "metadata": {},
   "outputs": [],
   "source": [
    "class Node :\n",
    "    def __init__(self,value):\n",
    "        self.value = value\n",
    "        self.left = None\n",
    "        self.right = None"
   ]
  },
  {
   "cell_type": "code",
   "execution_count": 11,
   "metadata": {},
   "outputs": [],
   "source": [
    "class BinarySearchTree:\n",
    "\n",
    "    def __init__(self):\n",
    "        self.root = None\n",
    "\n",
    "    def insert(self, value):\n",
    "        newNode = Node(value)\n",
    "\n",
    "        if self.root is None:\n",
    "            self.root = newNode\n",
    "            return True\n",
    "\n",
    "        tempNode = self.root\n",
    "\n",
    "        while True:\n",
    "            if newNode.value == tempNode.value:\n",
    "                return False\n",
    "            if newNode.value < tempNode.value:\n",
    "                if tempNode.left is None:\n",
    "                    tempNode.left = newNode\n",
    "                    return True\n",
    "                tempNode = tempNode.left\n",
    "            else:\n",
    "                if tempNode.right is None:\n",
    "                    tempNode.right = newNode\n",
    "                    return True\n",
    "                tempNode = tempNode.right\n",
    "\n",
    "\n",
    "    def contains(self,value):\n",
    "\n",
    "        tempNode = self.root\n",
    "\n",
    "        while tempNode:\n",
    "            if value < tempNode.value:\n",
    "                tempNode = tempNode.left\n",
    "            elif value > tempNode.value:\n",
    "                tempNode = tempNode.right\n",
    "            else:\n",
    "                return True\n",
    "        return False\n",
    "        \n",
    "\n",
    "    def minOfNode(self,currentNode):\n",
    "        while currentNode.left:\n",
    "            currentNode = currentNode.left\n",
    "        return currentNode\n",
    "    \n",
    "    def maxOfNode(self,currentNode):\n",
    "        while currentNode.right:\n",
    "            currentNode = currentNode.right\n",
    "        return currentNode\n",
    "    \n",
    "    def BFS(self):\n",
    "        currentNode = self.root\n",
    "        myQueue = []\n",
    "        values = []\n",
    "        myQueue.append(currentNode)\n",
    "\n",
    "        while len(myQueue) > 0 :\n",
    "            currentNode = myQueue.pop(0)\n",
    "            values.append(currentNode.value)\n",
    "            if currentNode.left is not None:\n",
    "                myQueue.append(currentNode.left)\n",
    "            if currentNode.right is not None:\n",
    "                myQueue.append(currentNode.right)\n",
    "        return  values\n",
    "\n",
    "    def DFSPreOrder(self):\n",
    "        values = []\n",
    "\n",
    "        def traverse(currentNode):\n",
    "            values.append(currentNode.value)\n",
    "            if currentNode.left is not None:\n",
    "                traverse(currentNode.left)\n",
    "            if currentNode.right is not None:\n",
    "                traverse(currentNode.right)\n",
    "        traverse(self.root)\n",
    "        return values\n",
    "    \n",
    "\n",
    "    def DFSPostOrder(self):\n",
    "        values = []\n",
    "\n",
    "        def traverse(currentNode):\n",
    "            if currentNode.left is not None:\n",
    "                traverse(currentNode.left)\n",
    "            if currentNode.right is not None:\n",
    "                traverse(currentNode.right)\n",
    "            values.append(currentNode.value)\n",
    "        traverse(self.root)\n",
    "        return values\n",
    "    \n",
    "\n",
    "    def DFSInOrder(self):\n",
    "        values = []\n",
    "\n",
    "        def traverse(currentNode):\n",
    "            if currentNode.left is not None:\n",
    "                traverse(currentNode.left)\n",
    "            values.append(currentNode.value)\n",
    "            if currentNode.right is not None:\n",
    "                traverse(currentNode.right)\n",
    "        traverse(self.root)\n",
    "        return values "
   ]
  },
  {
   "cell_type": "code",
   "execution_count": 7,
   "metadata": {},
   "outputs": [
    {
     "data": {
      "text/plain": [
       "True"
      ]
     },
     "execution_count": 7,
     "metadata": {},
     "output_type": "execute_result"
    }
   ],
   "source": [
    "myTree = BinarySearchTree()\n",
    "myTree.insert(38)\n",
    "myTree.insert(19)\n",
    "myTree.insert(69)\n",
    "myTree.insert(12)\n",
    "myTree.insert(24)\n",
    "myTree.insert(59)\n",
    "myTree.insert(95)"
   ]
  },
  {
   "cell_type": "code",
   "execution_count": 8,
   "metadata": {},
   "outputs": [
    {
     "data": {
      "text/plain": [
       "[38, 19, 69, 12, 24, 59, 95]"
      ]
     },
     "execution_count": 8,
     "metadata": {},
     "output_type": "execute_result"
    }
   ],
   "source": [
    "myTree.BFS()"
   ]
  },
  {
   "cell_type": "code",
   "execution_count": 9,
   "metadata": {},
   "outputs": [
    {
     "data": {
      "text/plain": [
       "[38, 19, 12, 24, 69, 59, 95]"
      ]
     },
     "execution_count": 9,
     "metadata": {},
     "output_type": "execute_result"
    }
   ],
   "source": [
    "myTree.DFSPreOrder()"
   ]
  },
  {
   "cell_type": "markdown",
   "metadata": {},
   "source": [
    "GRAPH"
   ]
  },
  {
   "cell_type": "markdown",
   "metadata": {},
   "source": [
    "tree(ağaç) yapıları ile nerydeyse aynıdır, alt kümesi şeklinde yer alır ve genel olarak hespi birbiri ile bağlantılıdır.\n"
   ]
  },
  {
   "cell_type": "markdown",
   "metadata": {},
   "source": [
    "Node : Vertex , Connection : Edge olarak isimlendirmeler ile karşılaşılabilir.\n"
   ]
  },
  {
   "cell_type": "markdown",
   "metadata": {},
   "source": [
    "weighted ege verilebilir, tek taraflı ya da çift taraflı olabilri ,matris olarak veya list olarak gösterilebilir .\n"
   ]
  },
  {
   "cell_type": "markdown",
   "metadata": {},
   "source": [
    "zaman - yer gösteriminde ; matris kullanımı cok yer kapladığından dolayı sözlük kullanımı daha avantajlıdır."
   ]
  },
  {
   "cell_type": "code",
   "execution_count": 20,
   "metadata": {},
   "outputs": [],
   "source": [
    "class Graph:\n",
    "    \n",
    "    def __init__(self):\n",
    "        self.adjDict = {}\n",
    "\n",
    "    def addVertex(self, vertex):\n",
    "        if vertex not in self.adjDict.keys():\n",
    "            self.adjDict[vertex] = []\n",
    "            return True\n",
    "        return False\n",
    "\n",
    "    def addEdge(self, v1, v2):\n",
    "        if v1 in self.adjDict.keys() and v2 in self.adjDict.keys():\n",
    "            self.adjDict[v1].append(v2)\n",
    "            self.adjDict[v2].append(v1)\n",
    "            return True\n",
    "        return False\n",
    "\n",
    "    def removeEdge(self, v1, v2):\n",
    "        if v1 in self.adjDict.keys() and v2 in self.adjDict.keys():\n",
    "            try:\n",
    "                self.adjDict[v1].remove(v2)\n",
    "                self.adjDict[v2].remove(v1)\n",
    "            except ValueError:\n",
    "                pass\n",
    "            return True\n",
    "        return False\n",
    "\n",
    "    def removeVertex(self, vertex):\n",
    "        if vertex in self.adjDict.keys():\n",
    "            for relatedVertex in self.adjDict[vertex]:\n",
    "                self.adjDict[relatedVertex].remove(vertex)\n",
    "            del self.adjDict[vertex]\n",
    "            return True\n",
    "        return False\n",
    "    \n",
    "    def printGraph(self):\n",
    "        for vertex in self.adjDict:\n",
    "            print(vertex, '->', self.adjDict[vertex])\n"
   ]
  },
  {
   "cell_type": "code",
   "execution_count": 21,
   "metadata": {},
   "outputs": [
    {
     "name": "stdout",
     "output_type": "stream",
     "text": [
      "IST -> ['AMS', 'CDG', 'JFK']\n",
      "AMS -> ['IST', 'CDG', 'JFK']\n",
      "CDG -> ['IST', 'AMS', 'JFK']\n",
      "JFK -> ['IST', 'AMS', 'CDG']\n"
     ]
    }
   ],
   "source": [
    "myGraph = Graph()\n",
    "myGraph.addVertex(\"IST\")\n",
    "myGraph.addVertex(\"AMS\")\n",
    "myGraph.addVertex(\"CDG\")\n",
    "myGraph.addVertex(\"JFK\")\n",
    "\n",
    "myGraph.addEdge(\"IST\",\"AMS\")\n",
    "myGraph.addEdge(\"IST\",\"CDG\")\n",
    "myGraph.addEdge(\"IST\",\"JFK\")\n",
    "myGraph.addEdge(\"AMS\",\"CDG\")\n",
    "myGraph.addEdge(\"AMS\",\"JFK\")\n",
    "myGraph.addEdge(\"CDG\",\"JFK\")\n",
    "\n",
    "myGraph.printGraph()"
   ]
  },
  {
   "cell_type": "code",
   "execution_count": 22,
   "metadata": {},
   "outputs": [
    {
     "name": "stdout",
     "output_type": "stream",
     "text": [
      "IST -> ['AMS', 'JFK']\n",
      "AMS -> ['IST', 'CDG', 'JFK']\n",
      "CDG -> ['AMS']\n",
      "JFK -> ['IST', 'AMS']\n"
     ]
    }
   ],
   "source": [
    "myGraph.removeEdge(\"IST\",\"CDG\")\n",
    "myGraph.removeEdge(\"CDG\",\"JFK\")\n",
    "myGraph.printGraph()"
   ]
  },
  {
   "cell_type": "code",
   "execution_count": 27,
   "metadata": {},
   "outputs": [],
   "source": [
    "class SearchingAlgorithms :\n",
    "    def sequantialSearchUnordered(self,unorderedList,number):\n",
    "        ix = 0 \n",
    "        found = False\n",
    "        while ix < len(unorderedList) and not found:\n",
    "            if unorderedList[ix] == number:\n",
    "                found = True\n",
    "            else:\n",
    "                ix += 1\n",
    "        return found\n",
    "    \n",
    "    def sequantialSearchOrdered(self,orderedList,number):\n",
    "        ix = 0 \n",
    "        found = False\n",
    "        tooBig = False\n",
    "        while ix < len(orderedList) and not tooBig:\n",
    "            if orderedList[ix] == number:\n",
    "                found = True\n",
    "            else:\n",
    "                if orderedList[ix] > number:\n",
    "                    tooBig = True\n",
    "                else:\n",
    "                    ix += 1\n",
    "        return found\n",
    "\n",
    "    def binarySearch(search,orderedList,number):\n",
    "\n",
    "        firstPointer = 0 \n",
    "        lastPointer = len(orderedList) - 1\n",
    "        found = False\n",
    "\n",
    "        while firstPointer <= lastPointer and not found:\n",
    "            midPoint = (firstPointer + lastPointer ) // 2 \n",
    "\n",
    "            if orderedList[midPoint] == number:\n",
    "                found = True\n",
    "            else:\n",
    "                if number < orderedList[midPoint]:\n",
    "                    lastPointer = midPoint - 1\n",
    "                else:\n",
    "                    firstPointer = midPoint + 1\n",
    "        return found  "
   ]
  },
  {
   "cell_type": "markdown",
   "metadata": {},
   "source": [
    "Max frequency Stack "
   ]
  },
  {
   "cell_type": "markdown",
   "metadata": {},
   "source": [
    "liste verildiğinde en çok tekrar edeni çıkar, eğer değer sayıları eşit ise en son eklenen hangisi ise onu çıkarmak üzerine kurulu bir algoritma tasarımı \n",
    "\n",
    "key,value algoritamasına dayalı push ettikten sonra yer alan listedeki key,valueye göre listeden pop ediyoruz."
   ]
  },
  {
   "cell_type": "code",
   "execution_count": 28,
   "metadata": {},
   "outputs": [],
   "source": [
    "class FreqStack:\n",
    "    def __init__(self) :\n",
    "        self.countMap = {}\n",
    "        self.maxCount = 0\n",
    "        self.stackMap = {}\n",
    "\n",
    "    def push(self,val:int) -> None:\n",
    "        newCountOfVal = 1 + self.countMap.get(val,0)\n",
    "        self.countMap[val] = newCountOfVal\n",
    "        if newCountOfVal > self.maxCount:\n",
    "            self.maxCount = newCountOfVal\n",
    "            self.stackMap[newCountOfVal] = []\n",
    "        self.stackMap[newCountOfVal].append(val)\n",
    "\n",
    "\n",
    "    def pop(self) -> int:\n",
    "        ValueForPop = self.stackMap[self.maxCount].pop()\n",
    "        self.countMap[ValueForPop] -= 1\n",
    "        if  not self.stackMap[self.maxCount]:\n",
    "            self.maxCount -= 1\n",
    "        return ValueForPop\n",
    "\n",
    "\n",
    "\n",
    "    "
   ]
  },
  {
   "cell_type": "markdown",
   "metadata": {},
   "source": [
    "Hash Table"
   ]
  },
  {
   "cell_type": "code",
   "execution_count": 1,
   "metadata": {},
   "outputs": [],
   "source": [
    "def hasFunction(key):\n",
    "    myHash = 0 \n",
    "    for letter in key :\n",
    "        myHash = (myHash + ord(letter) * 19)\n",
    "    return myHash"
   ]
  },
  {
   "cell_type": "code",
   "execution_count": 2,
   "metadata": {},
   "outputs": [
    {
     "data": {
      "text/plain": [
       "12084"
      ]
     },
     "execution_count": 2,
     "metadata": {},
     "output_type": "execute_result"
    }
   ],
   "source": [
    "hasFunction(\"orange\")"
   ]
  },
  {
   "cell_type": "code",
   "execution_count": 5,
   "metadata": {},
   "outputs": [],
   "source": [
    "class HashTable:\n",
    "    def __init__(self,size = 13) :\n",
    "        self.dataMap = [None] * size\n",
    "    def hasFunction(self,key):\n",
    "        myHash = 0 \n",
    "        for letter in key:\n",
    "            myHash = (myHash + ord(letter) * 19) % len(self.dataMap)\n",
    "        return myHash\n",
    "\n",
    "    def setItem(self,key,value):\n",
    "        index = self.hasFunction(key)\n",
    "        if self.dataMap[index] == None:\n",
    "            self.dataMap[index] = []\n",
    "        self.dataMap[index].append([key,value])\n",
    "\n",
    "    def getItem(self,key):\n",
    "        index = self.hasFunction(key)\n",
    "        if self.dataMap[index]is not None :\n",
    "            for i in range(len(self.dataMap[index])):\n",
    "                if self.dataMap[index][i][0] == key:\n",
    "                    return self.dataMap[index][i][1]\n",
    "        return None\n",
    "\n",
    "    def getKeys(self):\n",
    "        keys = []\n",
    "        for i in range(len(self.dataMap)):\n",
    "            if self.dataMap[i] is not None:\n",
    "                for j in range(len(self.dataMap[i])):\n",
    "                    keys.append(self.dataMap[i][j][0])\n",
    "        return keys\n",
    "    \n",
    "    def printTable(self):\n",
    "        for index,value in enumerate(self.dataMap):\n",
    "            print(index, \"->\",value)\n"
   ]
  },
  {
   "cell_type": "code",
   "execution_count": 6,
   "metadata": {},
   "outputs": [],
   "source": [
    "myHashTable = HashTable()\n",
    "myHashTable.setItem('Apple',100)\n",
    "myHashTable.setItem('Banana',150)\n",
    "myHashTable.setItem('Melon',200)\n",
    "myHashTable.setItem('Orange',300)"
   ]
  },
  {
   "cell_type": "code",
   "execution_count": 9,
   "metadata": {},
   "outputs": [
    {
     "name": "stdout",
     "output_type": "stream",
     "text": [
      "0 -> [['Melon', 200], ['Melon', 150]]\n",
      "1 -> None\n",
      "2 -> None\n",
      "3 -> None\n",
      "4 -> [['Banana', 150]]\n",
      "5 -> None\n",
      "6 -> [['Watermelon', 100]]\n",
      "7 -> None\n",
      "8 -> None\n",
      "9 -> None\n",
      "10 -> [['Orange', 300]]\n",
      "11 -> [['Apple', 100]]\n",
      "12 -> None\n"
     ]
    }
   ],
   "source": [
    "myHashTable.printTable()"
   ]
  },
  {
   "cell_type": "code",
   "execution_count": 8,
   "metadata": {},
   "outputs": [],
   "source": [
    "myHashTable.setItem('Watermelon',100)\n",
    "myHashTable.setItem('Melon',150)"
   ]
  },
  {
   "cell_type": "code",
   "execution_count": null,
   "metadata": {},
   "outputs": [],
   "source": []
  }
 ],
 "metadata": {
  "kernelspec": {
   "display_name": "Python 3",
   "language": "python",
   "name": "python3"
  },
  "language_info": {
   "codemirror_mode": {
    "name": "ipython",
    "version": 3
   },
   "file_extension": ".py",
   "mimetype": "text/x-python",
   "name": "python",
   "nbconvert_exporter": "python",
   "pygments_lexer": "ipython3",
   "version": "3.11.4"
  }
 },
 "nbformat": 4,
 "nbformat_minor": 2
}
